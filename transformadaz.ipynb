{
 "cells": [
  {
   "cell_type": "markdown",
   "id": "7fd7754f-41ee-4944-8f47-b08395d03bdd",
   "metadata": {},
   "source": [
    "# Transformada Z"
   ]
  },
  {
   "cell_type": "code",
   "execution_count": 5,
   "id": "c9ae5873-a54f-47d4-951d-d3d31229020f",
   "metadata": {},
   "outputs": [
    {
     "name": "stdout",
     "output_type": "stream",
     "text": [
      "x[n]: \n",
      " n\n",
      "a \n",
      "\n",
      " Transformada z desde sumatoria:\n",
      "⎛   1     │a│    ⎞\n",
      "⎜───────, │─│ < 1⎟\n",
      "⎜  a      │z│    ⎟\n",
      "⎜- ─ + 1         ⎟\n",
      "⎝  z             ⎠\n",
      "\n",
      " Transformada z simplificada\n",
      "  z   \n",
      "──────\n",
      "-a + z\n",
      "\n",
      " ROC: \n",
      "│a│    \n",
      "│─│ < 1\n",
      "│z│    \n",
      "\n",
      " {polos:veces}:  {a: 1}\n"
     ]
    },
    {
     "data": {
      "text/plain": [
       "Text(0.5, 1.0, 'ROC X[z]=z/(-a + z) ; a=0.5')"
      ]
     },
     "execution_count": 5,
     "metadata": {},
     "output_type": "execute_result"
    },
    {
     "data": {
      "image/png": "[encoded data removed]",
      "text/plain": [
       "<Figure size 432x288 with 1 Axes>"
      ]
     },
     "metadata": {
      "needs_background": "light"
     },
     "output_type": "display_data"
    }
   ],
   "source": [
    "# transformada z de x[n]u[n]\n",
    "import numpy as np\n",
    "import matplotlib.pyplot as plt\n",
    "import sympy as sym\n",
    "\n",
    "# INGRESO\n",
    "z = sym.symbols('z')\n",
    "n = sym.symbols('n',positive=True)\n",
    "a = sym.symbols('a')\n",
    "\n",
    "u = sym.Heaviside(n)\n",
    "xn = (a**n)*u\n",
    "\n",
    "# ROC Region de convergencia\n",
    "a1 = 0.5  # valor a\n",
    "m  = 7    # Términos a graficar\n",
    "muestras = 101 # dominio z\n",
    "\n",
    "# PROCEDIMIENTO\n",
    "fnz = xn*(z**(-n))\n",
    "# sumatoria en intervalo\n",
    "Fz_n = sym.summation(fnz,(n,0,sym.oo))\n",
    "Fz = Fz_n.args[0]     # primer intervalo\n",
    "Xz = Fz[0].simplify() # expresion buscada\n",
    "\n",
    "ROC = Fz[1]\n",
    "\n",
    "# polos\n",
    "[P,Q] = Xz.as_numer_denom()\n",
    "Q = Q.as_poly(z)\n",
    "Q_raiz = sym.roots(Q)\n",
    "\n",
    "# SALIDA\n",
    "print('x[n]: ')\n",
    "sym.pprint(xn)\n",
    "print('\\n Transformada z desde sumatoria:')\n",
    "sym.pprint(Fz)\n",
    "print('\\n Transformada z simplificada')\n",
    "sym.pprint(Xz)\n",
    "print('\\n ROC: ')\n",
    "sym.pprint(ROC)\n",
    "print('\\n {polos:veces}: ',Q_raiz)\n",
    "\n",
    "# GRAFICA valores\n",
    "Qa = Q.subs(a,a1) # sustituye a con a1\n",
    "Qa = Qa.as_poly(z)\n",
    "Qa_raiz = sym.roots(Qa)\n",
    "# para graficar x[n]\n",
    "fn = sym.lambdify([n,a],xn)\n",
    "ki = np.arange(0,m,1)\n",
    "xnk = fn(ki,a1)\n",
    "\n",
    "# estima intervalo para z\n",
    "z_limite = np.abs(list(Qa_raiz.keys()))\n",
    "z_limite = np.concatenate((z_limite,[1])\n",
    "                          ,axis=0)\n",
    "z_limite = 2*int(np.max([z_limite]))\n",
    "\n",
    "# X[z]\n",
    "zi  = np.linspace(-z_limite,z_limite,\n",
    "                  muestras)\n",
    "fz = sym.lambdify([z,a],Xz)\n",
    "Xzi = fz(np.abs(zi),a1) # usa |z|\n",
    "# Revisar cuando z es complejo\n",
    "\n",
    "# grafica plano z imaginario\n",
    "figura, grafROC = plt.subplots()\n",
    "# limite\n",
    "radio1 = plt.Circle((0,0),1,\n",
    "                    color='lightsalmon',\n",
    "                    fill=True)\n",
    "radio2 = plt.Circle((0,0),1,\n",
    "                    linestyle='dashed',\n",
    "                    color='red',fill=False)\n",
    "grafROC.add_patch(radio1)\n",
    "for raiz in Qa_raiz.keys():\n",
    "    [r_real,r_imag] = raiz.as_real_imag()\n",
    "    radio_raiz = np.abs(raiz)\n",
    "    nROC = plt.Circle((0,0),radio_raiz,\n",
    "                      color='lightgreen',\n",
    "                      fill=True)\n",
    "    grafROC.add_patch(nROC)\n",
    "grafROC.add_patch(radio2) # borde r=1\n",
    "grafROC.axis('equal')\n",
    "# marcas de r=1 y valor a\n",
    "for raiz in Qa_raiz.keys():\n",
    "    x_polo = sym.re(raiz)\n",
    "    y_polo = sym.im(raiz)\n",
    "    etiqueta = 'polo: '+str(float(np.abs(raiz)))\n",
    "    grafROC.scatter(x_polo,y_polo,marker='o',\n",
    "                    color='green',label = etiqueta)\n",
    "    etiqueta = \"(\"+str(float(x_polo)) + ','\n",
    "    etiqueta = etiqueta + str(float(y_polo))+\")\"\n",
    "    plt.annotate(etiqueta,(x_polo,y_polo))\n",
    "grafROC.plot(1,0,'o',color='red',\n",
    "             label ='radio:'+str(1))\n",
    "\n",
    "plt.axhline(0,color='grey')\n",
    "plt.axvline(0,color='grey')\n",
    "plt.grid()\n",
    "plt.legend()\n",
    "plt.xlabel('Re[z]')\n",
    "plt.ylabel('Imag[z]')\n",
    "untitulo = 'ROC X[z]='+str(Xz)\n",
    "untitulo = untitulo+ ' ; a='+str(a1)\n",
    "plt.title(untitulo)\n",
    "\n",
    "\n",
    "\n"
   ]
  },
  {
   "cell_type": "code",
   "execution_count": 6,
   "id": "dd6e69a0-853f-4e40-9dce-c27af7726a02",
   "metadata": {},
   "outputs": [
    {
     "data": {
      "text/plain": [
       "Text(0.5, 1.0, 'x[n]= a**n ; a=0.5')"
      ]
     },
     "execution_count": 6,
     "metadata": {},
     "output_type": "execute_result"
    },
    {
     "data": {
      "image/png": "[encoded data removed]",
      "text/plain": [
       "<Figure size 432x288 with 1 Axes>"
      ]
     },
     "metadata": {
      "needs_background": "light"
     },
     "output_type": "display_data"
    }
   ],
   "source": [
    "\n",
    "# entrada x[n]\n",
    "figura, grafxn = plt.subplots()\n",
    "plt.stem(ki,xnk)\n",
    "\n",
    "plt.xlabel('ki')\n",
    "plt.ylabel('x[n]')\n",
    "plt.title('x[n]= '+str(xn)+' ; a='+str(a1))\n"
   ]
  },
  {
   "cell_type": "code",
   "execution_count": 7,
   "id": "03467fba-2a4a-479c-8c27-5487f5f152d9",
   "metadata": {},
   "outputs": [
    {
     "data": {
      "image/png": "[encoded data removed]",
      "text/plain": [
       "<Figure size 432x288 with 1 Axes>"
      ]
     },
     "metadata": {
      "needs_background": "light"
     },
     "output_type": "display_data"
    }
   ],
   "source": [
    "\n",
    "# dominio z\n",
    "figura, grafXz = plt.subplots()\n",
    "plt.plot(zi,Xzi,label='X[z]')\n",
    "for raiz in Qa_raiz.keys():\n",
    "    x_polo = sym.re(raiz)\n",
    "    y_polo = sym.im(raiz)\n",
    "    radio_raiz = np.abs(raiz)\n",
    "    plt.axvline(radio_raiz,color='red')\n",
    "    plt.axvline(-radio_raiz,color='red')\n",
    "    plt.scatter(x_polo,y_polo,\n",
    "                label='polo:'+str(radio_raiz),\n",
    "                marker='x',color='red')\n",
    "    plt.scatter(-x_polo,y_polo,\n",
    "                label='polo:'+str(radio_raiz),\n",
    "                marker='x',color='red')\n",
    "plt.grid()\n",
    "untitulo ='X[z]= '+str(Xz)\n",
    "untitulo = untitulo+ ' ; a='+str(a1)\n",
    "plt.title(untitulo)\n",
    "plt.xlabel('zi')\n",
    "plt.ylabel('X[zi]')\n",
    "\n",
    "plt.show()"
   ]
  }
 ],
 "metadata": {
  "kernelspec": {
   "display_name": "Python 3 (ipykernel)",
   "language": "python",
   "name": "python3"
  },
  "language_info": {
   "codemirror_mode": {
    "name": "ipython",
    "version": 3
   },
   "file_extension": ".py",
   "mimetype": "text/x-python",
   "name": "python",
   "nbconvert_exporter": "python",
   "pygments_lexer": "ipython3",
   "version": "3.9.12"
  }
 },
 "nbformat": 4,
 "nbformat_minor": 5
}
