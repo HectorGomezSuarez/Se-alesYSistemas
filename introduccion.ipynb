import numpy as np
import matplotlib.pyplot as plt
%matplotlib inline

t= np.arange (-10,10,1)
s=(t==0)*1.0
plt.stem(t,s)
