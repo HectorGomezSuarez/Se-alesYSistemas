{
 "cells": [
  {
   "cell_type": "markdown",
   "id": "51aad65c-0b7f-48a0-86d6-4014a88b35df",
   "metadata": {},
   "source": [
    "# 1.-Introducción a las señales discretas en el tiempo y ejemplos"
   ]
  },
  {
   "cell_type": "markdown",
   "id": "ed1681bd-67a5-40b3-ac1a-7df541293c3f",
   "metadata": {},
   "source": [
    "#### Señales discretas y continuas, ejemplos de señal escalon impulso, karpus"
   ]
  },
  {
   "cell_type": "code",
   "execution_count": 1,
   "id": "9f28fad7-5db8-4ec4-8f4d-03fc2b654fab",
   "metadata": {},
   "outputs": [
    {
     "data": {
      "text/plain": [
       "<StemContainer object of 3 artists>"
      ]
     },
     "execution_count": 1,
     "metadata": {},
     "output_type": "execute_result"
    },
    {
     "data": {
      "image/png": "[encoded data removed]",
      "text/plain": [
       "<Figure size 432x288 with 1 Axes>"
      ]
     },
     "metadata": {
      "needs_background": "light"
     },
     "output_type": "display_data"
    }
   ],
   "source": [
    "import numpy as np\n",
    "import matplotlib.pyplot as plt\n",
    "%matplotlib inline\n",
    "\n",
    "t= np.arange (-10,10,1)\n",
    "s=(t==0)*1.0\n",
    "plt.stem(t,s)\n"
   ]
  },
  {
   "cell_type": "code",
   "execution_count": null,
   "id": "f3a9c25c-719e-4e4c-9d11-960f0a65b867",
   "metadata": {},
   "outputs": [],
   "source": []
  }
 ],
 "metadata": {
  "kernelspec": {
   "display_name": "Python 3 (ipykernel)",
   "language": "python",
   "name": "python3"
  },
  "language_info": {
   "codemirror_mode": {
    "name": "ipython",
    "version": 3
   },
   "file_extension": ".py",
   "mimetype": "text/x-python",
   "name": "python",
   "nbconvert_exporter": "python",
   "pygments_lexer": "ipython3",
   "version": "3.9.12"
  }
 },
 "nbformat": 4,
 "nbformat_minor": 5
}
